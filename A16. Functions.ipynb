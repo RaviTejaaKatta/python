{
 "cells": [
  {
   "attachments": {
    "Screenshot%202023-08-07%20130136.png": {
     "image/png": "[encoded data removed]"
    }
   },
   "cell_type": "markdown",
   "id": "281770b4",
   "metadata": {
    "deletable": false,
    "editable": false
   },
   "source": [
    "![Screenshot%202023-08-07%20130136.png](attachment:Screenshot%202023-08-07%20130136.png)"
   ]
  },
  {
   "cell_type": "markdown",
   "id": "3e2d1a82",
   "metadata": {
    "deletable": false,
    "editable": false
   },
   "source": [
    "<h2 style='color:hotpink' align='center'>MODULE: PYTHON LANGUAGE</h2>"
   ]
  },
  {
   "cell_type": "markdown",
   "id": "ee8d543c",
   "metadata": {
    "deletable": false,
    "editable": false
   },
   "source": [
    "<h2 style='color:blue' align='center'>Topic: Functions</h2>"
   ]
  },
  {
   "cell_type": "markdown",
   "id": "cf9bc33d",
   "metadata": {},
   "source": [
    "<h2 style='color:#C60D25' align='center'>Assignment</h2>"
   ]
  },
  {
   "cell_type": "markdown",
   "id": "d7d9e8bc",
   "metadata": {
    "deletable": false,
    "editable": false
   },
   "source": [
    "<h2 style='color:black' align='left'>Instructions:</h2>"
   ]
  },
  {
   "cell_type": "markdown",
   "id": "9648efae",
   "metadata": {
    "deletable": false,
    "editable": false
   },
   "source": [
    "* Please complete below assignment on this jupyter notebook.Once complete please upload the file in your dashboard assignments block (where you are downloaded) as a .ipynb file format\n",
    "\n",
    "\n",
    "* Due date: To be submitted before teh next topic/session\n",
    "\n",
    "\n",
    "* Scoring/Marks: As per topic guidelines\n"
   ]
  },
  {
   "cell_type": "markdown",
   "id": "6bb20fa3",
   "metadata": {},
   "source": [
    "### Write a program to find sum of two number?"
   ]
  },
  {
   "cell_type": "code",
   "execution_count": null,
   "id": "d722cd72",
   "metadata": {},
   "outputs": [
    {
     "name": "stdout",
     "output_type": "stream",
     "text": [
      " sum of 3, 5 is 8\n"
     ]
    }
   ],
   "source": [
    "def sum(a, b):\n",
    "    return f'sum of {a}, {b} is {a+b}'\n",
    "a, b = 3, 5\n",
    "print(sum(a, b))"
   ]
  },
  {
   "cell_type": "markdown",
   "id": "03065b96",
   "metadata": {
    "deletable": false,
    "editable": false
   },
   "source": [
    "### Write a program to find average of 3 number based on user input"
   ]
  },
  {
   "cell_type": "code",
   "execution_count": 4,
   "id": "3a9e5710",
   "metadata": {},
   "outputs": [
    {
     "name": "stdout",
     "output_type": "stream",
     "text": [
      "avg of 2, 6, 43 is 17.0\n"
     ]
    }
   ],
   "source": [
    "def avg(a, b, c):\n",
    "    return f\"avg of {a}, {b}, {c} is {(a+b+c)/3}\"\n",
    "a, b, c = 2, 6, 43\n",
    "print(avg(a, b, c))"
   ]
  },
  {
   "cell_type": "markdown",
   "id": "43b4cbbe",
   "metadata": {
    "deletable": false,
    "editable": false
   },
   "source": [
    "###  Write a program to generate 1 to n odd numbers and sum of odd numbers\n",
    "\n",
    "\n"
   ]
  },
  {
   "cell_type": "code",
   "execution_count": 5,
   "id": "752b36cf",
   "metadata": {},
   "outputs": [
    {
     "name": "stdout",
     "output_type": "stream",
     "text": [
      "4\n"
     ]
    }
   ],
   "source": [
    "def sum(n):\n",
    "    o = 0\n",
    "    sum = 0\n",
    "    while o<n:\n",
    "        if o%2 != 0:\n",
    "            sum+=o\n",
    "        o+=1\n",
    "    return sum\n",
    "\n",
    "print(sum(4))\n"
   ]
  },
  {
   "cell_type": "markdown",
   "id": "4be9d910",
   "metadata": {
    "deletable": false,
    "editable": false
   },
   "source": [
    "###  Write a program to generate 4,5,6,7  tables using function.\n",
    "\n",
    "\n"
   ]
  },
  {
   "cell_type": "code",
   "execution_count": null,
   "id": "503c0643",
   "metadata": {},
   "outputs": [],
   "source": []
  },
  {
   "cell_type": "markdown",
   "id": "380e5177",
   "metadata": {
    "deletable": false,
    "editable": false
   },
   "source": [
    "###  Write a python program Fibonacci Series Program between the two intrvels  using functions\n",
    "\n",
    "\n"
   ]
  },
  {
   "cell_type": "code",
   "execution_count": null,
   "id": "c2233e36",
   "metadata": {},
   "outputs": [],
   "source": []
  },
  {
   "cell_type": "markdown",
   "id": "6b842011",
   "metadata": {
    "deletable": false,
    "editable": false
   },
   "source": [
    "###  Write a python  program find the factorial of given number using functions\n",
    "\n",
    "#### 5!=5*4*3*2*1\n",
    "\n",
    "\n"
   ]
  },
  {
   "cell_type": "markdown",
   "id": "355b43c0",
   "metadata": {},
   "source": [
    "### Write a program to find sum of 100 even number?"
   ]
  },
  {
   "cell_type": "code",
   "execution_count": null,
   "id": "1bbc5c36",
   "metadata": {},
   "outputs": [],
   "source": []
  },
  {
   "cell_type": "markdown",
   "id": "9c4adacd",
   "metadata": {},
   "source": [
    "### Write a program to sum of 100 odd number ?"
   ]
  },
  {
   "cell_type": "markdown",
   "id": "1e6a7c12",
   "metadata": {
    "deletable": false,
    "editable": false
   },
   "source": [
    "### Problem Statement:\n",
    "\n",
    "### Write a ATM Management System by using the operators , conditional-statements functions Based on given requirements .\n",
    "\n",
    "#### 1.First to create user name and password.\n",
    "\n",
    "#### 2.Program would ask the user to enter his/her username and password. \n",
    "####  If wrong username or password user will get warning message.\n",
    "\n",
    "#### 3.if username and password correct then allow user to perform these \n",
    "#### operations Deposit , Withdraw, mini-statement, exit. \n",
    "\n",
    "#### 4.Create amount variable and assign amount 50000.\n",
    "\n",
    "#### 5.Ask to user to select which operation user want .\n",
    "\n",
    "#### 6.User want to perform deposit automatically add deposit amount.\n",
    " \n",
    "#### 7.User want to perform withdraw automatically  less withdraw amount.\n",
    "\n",
    "#### 8.User want to perform mini-statement automatically show the username And amount.\n",
    "\n",
    "#### 9.User want to  exit automatically exit.\n",
    "\n",
    "\n",
    "\n",
    "\n"
   ]
  },
  {
   "cell_type": "code",
   "execution_count": null,
   "id": "3b294181",
   "metadata": {},
   "outputs": [],
   "source": []
  },
  {
   "cell_type": "code",
   "execution_count": null,
   "id": "a925a173",
   "metadata": {},
   "outputs": [],
   "source": []
  },
  {
   "cell_type": "code",
   "execution_count": null,
   "id": "502db8c4",
   "metadata": {},
   "outputs": [],
   "source": []
  }
 ],
 "metadata": {
  "kernelspec": {
   "display_name": "Python 3",
   "language": "python",
   "name": "python3"
  },
  "language_info": {
   "codemirror_mode": {
    "name": "ipython",
    "version": 3
   },
   "file_extension": ".py",
   "mimetype": "text/x-python",
   "name": "python",
   "nbconvert_exporter": "python",
   "pygments_lexer": "ipython3",
   "version": "3.13.3"
  }
 },
 "nbformat": 4,
 "nbformat_minor": 5
}
