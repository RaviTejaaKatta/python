{
 "cells": [
  {
   "attachments": {
    "c4.PNG": {
     "image/png": "[encoded data removed]"
    }
   },
   "cell_type": "markdown",
   "id": "7743d967",
   "metadata": {
    "deletable": false,
    "editable": false
   },
   "source": [
    "![c4.PNG](attachment:c4.PNG)"
   ]
  },
  {
   "cell_type": "markdown",
   "id": "df5d6e78",
   "metadata": {
    "deletable": false,
    "editable": false
   },
   "source": [
    "<h2 style='color:hotpink' align='center'>MODULE: PYTHON LANGUAGE</h2>"
   ]
  },
  {
   "cell_type": "markdown",
   "id": "00c92e20",
   "metadata": {
    "deletable": false,
    "editable": false
   },
   "source": [
    "<h2 style='color:blue' align='center'>Topic: Fundamentals of python</h2>"
   ]
  },
  {
   "cell_type": "markdown",
   "id": "cf9bc33d",
   "metadata": {
    "deletable": false,
    "editable": false
   },
   "source": [
    "<h2 style='color:#C60D25' align='center'>Assignment</h2>"
   ]
  },
  {
   "cell_type": "markdown",
   "id": "c2d4a960",
   "metadata": {
    "deletable": false,
    "editable": false
   },
   "source": [
    "<h2 style='color:black' align='left'>Instructions:</h2>"
   ]
  },
  {
   "cell_type": "markdown",
   "id": "9648efae",
   "metadata": {
    "deletable": false,
    "editable": false
   },
   "source": [
    "* Please complete below assignment on this jupyter notebook.Once complete please upload the file in your dashboard assignments block (where you are downloaded) as a .ipynb file format\n",
    "\n",
    "\n",
    "* Due date: To be submitted before teh next topic/session\n",
    "\n",
    "\n",
    "* Scoring/Marks: As per topic guidelines\n"
   ]
  },
  {
   "cell_type": "markdown",
   "id": "d334a123",
   "metadata": {
    "deletable": false,
    "editable": false
   },
   "source": [
    "### 1) Write a program to find sum of the two numerical literals (int,float,complex).\n",
    "\n",
    "\n",
    "\n"
   ]
  },
  {
   "cell_type": "code",
   "execution_count": 13,
   "id": "85d7cb8b",
   "metadata": {},
   "outputs": [
    {
     "name": "stdout",
     "output_type": "stream",
     "text": [
      "integer addition 7\n",
      "float addition 7.9002\n",
      "complex number addition (4+6j)\n"
     ]
    }
   ],
   "source": [
    "result = 5 +2\n",
    "print(\"integer addition\", result)\n",
    "\n",
    "result_fl = 3.9 + 4.0002\n",
    "print(\"float addition\", result_fl)\n",
    "\n",
    "result_comp = 1 + 2j + 3 + 4j\n",
    "print(\"complex number addition\", result_comp)"
   ]
  },
  {
   "cell_type": "markdown",
   "id": "487c2dd9",
   "metadata": {
    "deletable": false,
    "editable": false
   },
   "source": [
    "### 2) Write a program to assign a string literals\n",
    "\n",
    "\n"
   ]
  },
  {
   "cell_type": "code",
   "execution_count": 10,
   "id": "49237faa",
   "metadata": {},
   "outputs": [
    {
     "name": "stdout",
     "output_type": "stream",
     "text": [
      "Ravi Teja Katta\n",
      "\n",
      "my college is located in gujarat\n",
      "and it's name is Parul University    \n",
      "\n",
      "<class 'str'>\n"
     ]
    }
   ],
   "source": [
    "\n",
    "name = \"Ravi Teja Katta\"  #single line string literal\n",
    "college_location = '''\n",
    "my college is located in gujarat\n",
    "and it's name is Parul University    \n",
    "'''   #multiline string literal\n",
    "\n",
    "print(name)\n",
    "print(college_location)\n",
    "print(type(name))"
   ]
  },
  {
   "cell_type": "markdown",
   "id": "06500b33",
   "metadata": {
    "deletable": false,
    "editable": false
   },
   "source": [
    "### 3) Write a program to assign a boolean literals\n",
    "\n",
    "\n"
   ]
  },
  {
   "cell_type": "code",
   "execution_count": 12,
   "id": "270900b4",
   "metadata": {},
   "outputs": [
    {
     "name": "stdout",
     "output_type": "stream",
     "text": [
      "False\n",
      "<class 'bool'>\n"
     ]
    }
   ],
   "source": [
    "\n",
    "DoesACGivesHotAir = False\n",
    "print(DoesACGivesHotAir)\n",
    "print(type(DoesACGivesHotAir))"
   ]
  },
  {
   "cell_type": "markdown",
   "id": "8395085f",
   "metadata": {
    "deletable": false,
    "editable": false
   },
   "source": [
    "### 4) Write a program to assign a float literals.\n",
    "\n",
    "\n"
   ]
  },
  {
   "cell_type": "code",
   "execution_count": 14,
   "id": "aba9a3d9",
   "metadata": {},
   "outputs": [
    {
     "name": "stdout",
     "output_type": "stream",
     "text": [
      "<class 'float'>\n"
     ]
    }
   ],
   "source": [
    "temperature = 36.9\n",
    "print(type(temperature))"
   ]
  },
  {
   "cell_type": "markdown",
   "id": "025c7764",
   "metadata": {
    "deletable": false,
    "editable": false
   },
   "source": [
    "### 5) Write a program to convert dceimal number into binary number.\n",
    "####    1) 111  2)233 3)444 \n",
    "\n",
    "\n"
   ]
  },
  {
   "cell_type": "code",
   "execution_count": null,
   "id": "b6d2d472",
   "metadata": {},
   "outputs": [],
   "source": [
    "'''\n",
    "3 = 11\n",
    "2 = 10\n",
    "16 = 10000\n",
    "8 = 1000\n",
    "decimal number to binary conversion\n",
    "'''\n",
    "# code for converting decimal numbers to binary\n",
    "\n"
   ]
  },
  {
   "cell_type": "markdown",
   "id": "f8f8f999",
   "metadata": {
    "deletable": false,
    "editable": false
   },
   "source": [
    "### 6) Write a program to convert decimal number into octal number.\n",
    "####    1) 171  2)373 3)474 \n",
    "\n",
    "\n"
   ]
  },
  {
   "cell_type": "code",
   "execution_count": null,
   "id": "ac43d33a",
   "metadata": {},
   "outputs": [
    {
     "name": "stdout",
     "output_type": "stream",
     "text": [
      "9\n"
     ]
    }
   ],
   "source": [
    "# 171//8 = 21.375  171%8 = 3\n",
    "# 21//8 = 2  21%8 = 5\n",
    "# 2//8 = 0  2%8 = 2\n",
    "# decimal to octal for number 171 is 253\n"
   ]
  },
  {
   "cell_type": "markdown",
   "id": "8b7eac03",
   "metadata": {
    "deletable": false,
    "editable": false
   },
   "source": [
    "### 7) Write a program to convert decimal number into hexa number.\n",
    "####    1) 311  2)223 3)544 \n",
    "\n",
    "\n"
   ]
  },
  {
   "cell_type": "code",
   "execution_count": 3,
   "id": "e5a49472",
   "metadata": {},
   "outputs": [
    {
     "name": "stdout",
     "output_type": "stream",
     "text": [
      " hello world \n"
     ]
    }
   ],
   "source": [
    "'''\n",
    "311//16 = 19 .... 311%16 = 7\n",
    "19//16 = 1 ...... 19%16 = 3\n",
    "1//16 = 0 ...... 1%16 = 1\n",
    "hexa decimal for number 311 is 137  \n",
    "in hexadecimal representation we count for upto 0 to 15 numbers using the digits 0-9 and letters A-F\n",
    "'''\n",
    "g = \" hello world \" \n",
    "print(g)"
   ]
  },
  {
   "cell_type": "markdown",
   "id": "bb123f44",
   "metadata": {
    "deletable": false,
    "editable": false
   },
   "source": [
    "### 8) Write a program to add two numbers using single line statement.\n",
    "\n",
    "\n"
   ]
  },
  {
   "cell_type": "code",
   "execution_count": 1,
   "id": "0836f554",
   "metadata": {},
   "outputs": [
    {
     "name": "stdout",
     "output_type": "stream",
     "text": [
      "9\n"
     ]
    }
   ],
   "source": [
    "print(5 + 4)\n"
   ]
  },
  {
   "cell_type": "markdown",
   "id": "52590be5",
   "metadata": {
    "deletable": false,
    "editable": false
   },
   "source": [
    "### 9) Write a program to add two numbers using multiline statement.\n",
    "\n",
    "\n"
   ]
  },
  {
   "cell_type": "code",
   "execution_count": 33,
   "id": "8d4594ed",
   "metadata": {},
   "outputs": [
    {
     "name": "stdout",
     "output_type": "stream",
     "text": [
      "7\n"
     ]
    }
   ],
   "source": [
    "a = 3\n",
    "b = 4\n",
    "print(a+b)"
   ]
  },
  {
   "cell_type": "markdown",
   "id": "c4ddc07f",
   "metadata": {
    "deletable": false,
    "editable": false
   },
   "source": [
    "### 10) Write a program to convert given single line line statements into multiline statements\n",
    "\n",
    "###     1)sline = \"I am student of Cedlearn \"   2) sline1 = \"I am learning Data analyst\"\n",
    "\n",
    "\n"
   ]
  },
  {
   "cell_type": "code",
   "execution_count": 30,
   "id": "5306b21d",
   "metadata": {},
   "outputs": [
    {
     "name": "stdout",
     "output_type": "stream",
     "text": [
      "This is a line of text.\n",
      "and this is another line.\n"
     ]
    }
   ],
   "source": [
    "line1 = \"This is a line of text.\"\n",
    "line2 = \"and this is another line.\"\n",
    "print(line1, \"\\n\", line2, sep = \"\")"
   ]
  },
  {
   "cell_type": "markdown",
   "id": "808f2ad6",
   "metadata": {
    "deletable": false,
    "editable": false
   },
   "source": [
    "### 11) Write a program using inline comments write the identifier rules and expline with examples\n",
    "\n",
    "\n"
   ]
  },
  {
   "cell_type": "code",
   "execution_count": 36,
   "id": "a146b600",
   "metadata": {},
   "outputs": [
    {
     "data": {
      "text/plain": [
       "'invalid identifiers\\n1age = 20\\nage@3 = 39\\nname of person = \"ravi\\n'"
      ]
     },
     "execution_count": 36,
     "metadata": {},
     "output_type": "execute_result"
    }
   ],
   "source": [
    "# identifier rules\n",
    "name = \"ravi\" # identifier must start with a letter or underscore (underscore are mostly used in private class and variable )\n",
    "age1 = 25 # may contain integers, but not at starting of identiifier\n",
    "college_name = \"parul\" #underscore may used in between and should not contain spaces and every identifier shouldn't contain any special characters\n",
    "'''invalid identifiers\n",
    "1age = 20\n",
    "age@3 = 39\n",
    "name of person = \"ravi\n",
    "'''\n",
    "\n"
   ]
  },
  {
   "cell_type": "markdown",
   "id": "1e51ecc7",
   "metadata": {},
   "source": [
    "### 12) What is a variable explain rules using multiline comments.\n",
    "\n",
    "\n"
   ]
  },
  {
   "cell_type": "code",
   "execution_count": 35,
   "id": "0e7344d2",
   "metadata": {},
   "outputs": [
    {
     "data": {
      "text/plain": [
       "'\\nvariable is a temporary placeholder for a value in a program\\nit may change during the execution of the program\\n'"
      ]
     },
     "execution_count": 35,
     "metadata": {},
     "output_type": "execute_result"
    }
   ],
   "source": [
    "'''\n",
    "variable is a temporary placeholder for a value in a program\n",
    "it may change during the execution of the program\n",
    "'''"
   ]
  },
  {
   "cell_type": "markdown",
   "id": "d17d4816",
   "metadata": {
    "deletable": false,
    "editable": false
   },
   "source": [
    "### 13) identify variable and operator and literals using comments\n",
    "####    a = 2 + 3\n",
    "\n",
    "\n"
   ]
  },
  {
   "cell_type": "code",
   "execution_count": 31,
   "id": "af3e1e08",
   "metadata": {},
   "outputs": [
    {
     "data": {
      "text/plain": [
       "'\\na = 2+3\\nvariable = a\\noperator = +\\noperands = 2, 3, a\\nliteral = a {literal is naming of a variable}\\n'"
      ]
     },
     "execution_count": 31,
     "metadata": {},
     "output_type": "execute_result"
    }
   ],
   "source": [
    "'''\n",
    "a = 2+3\n",
    "variable = a\n",
    "operator = +\n",
    "operands = 2, 3, a\n",
    "literal = a {literal is naming of a variable}\n",
    "'''"
   ]
  },
  {
   "cell_type": "markdown",
   "id": "3c2631f2",
   "metadata": {
    "deletable": false,
    "editable": false
   },
   "source": [
    "### 14) Write a program to assign values into two variables and swap the values.\n",
    "\n",
    "\n"
   ]
  },
  {
   "cell_type": "code",
   "execution_count": 2,
   "id": "b365e1df",
   "metadata": {},
   "outputs": [
    {
     "name": "stdout",
     "output_type": "stream",
     "text": [
      "a value 3, b value 2\n"
     ]
    }
   ],
   "source": [
    "a = 2\n",
    "b = 3\n",
    "temp = a \n",
    "a = b\n",
    "b = temp\n",
    "print(f\"a value {a}, b value {b}\")"
   ]
  },
  {
   "cell_type": "markdown",
   "id": "27839d05",
   "metadata": {
    "deletable": false,
    "editable": false
   },
   "source": [
    "### 15) Different types of number systems in python"
   ]
  },
  {
   "cell_type": "code",
   "execution_count": 4,
   "id": "3ae54d14",
   "metadata": {},
   "outputs": [
    {
     "data": {
      "text/plain": [
       "' different types of number systems in python including binary, octal, decimal, and hexadecimal representations.'"
      ]
     },
     "execution_count": 4,
     "metadata": {},
     "output_type": "execute_result"
    }
   ],
   "source": [
    "''' different types of number systems in python including binary, octal, decimal, and hexadecimal representations.'''"
   ]
  },
  {
   "cell_type": "markdown",
   "id": "e43ff033",
   "metadata": {
    "deletable": false,
    "editable": false
   },
   "source": [
    "### 16) What is expression ? Give me one exeample? "
   ]
  },
  {
   "cell_type": "code",
   "execution_count": 5,
   "id": "c3489ea1",
   "metadata": {},
   "outputs": [
    {
     "data": {
      "text/plain": [
       "'expression in python is a set of instructions that contains operators and operands that are executed to perform a specific task'"
      ]
     },
     "execution_count": 5,
     "metadata": {},
     "output_type": "execute_result"
    }
   ],
   "source": [
    "'''expression in python is a set of instructions that contains operators and operands that are executed to perform a specific task'''\n"
   ]
  },
  {
   "cell_type": "markdown",
   "id": "029678a2",
   "metadata": {
    "deletable": false,
    "editable": false
   },
   "source": [
    "### 17) What is Statement? Give me one exeample?"
   ]
  },
  {
   "cell_type": "code",
   "execution_count": 8,
   "id": "2f7e03b5",
   "metadata": {},
   "outputs": [
    {
     "data": {
      "text/plain": [
       "' statement in python is instruction that python interpreter can interpret'"
      ]
     },
     "execution_count": 8,
     "metadata": {},
     "output_type": "execute_result"
    }
   ],
   "source": [
    "''' statement in python is instruction that python interpreter can interpret'''"
   ]
  },
  {
   "cell_type": "markdown",
   "id": "4be12ce2",
   "metadata": {
    "deletable": false,
    "editable": false
   },
   "source": [
    "### 18) What is the keyword? to display the all the keywords in python?"
   ]
  },
  {
   "cell_type": "code",
   "execution_count": 9,
   "id": "2189a7c9",
   "metadata": {},
   "outputs": [
    {
     "name": "stdout",
     "output_type": "stream",
     "text": [
      "['False', 'None', 'True', 'and', 'as', 'assert', 'async', 'await', 'break', 'class', 'continue', 'def', 'del', 'elif', 'else', 'except', 'finally', 'for', 'from', 'global', 'if', 'import', 'in', 'is', 'lambda', 'nonlocal', 'not', 'or', 'pass', 'raise', 'return', 'try', 'while', 'with', 'yield']\n"
     ]
    }
   ],
   "source": [
    "''' in python keywords are pre-defined words that have specific task of their own and cannot be used as identifiers.'''\n",
    "import keyword\n",
    "print(keyword.kwlist)"
   ]
  },
  {
   "cell_type": "markdown",
   "id": "96f1bea6",
   "metadata": {
    "deletable": false,
    "editable": false
   },
   "source": [
    "### 19) What is comment? Different type of comment with relative examples?"
   ]
  },
  {
   "cell_type": "code",
   "execution_count": null,
   "id": "b593a1f3",
   "metadata": {},
   "outputs": [
    {
     "data": {
      "text/plain": [
       "\" in programming languages comments are used to explain code or provide additional information, \\neven though they are written in sourse code they are ignored by the interpreter\\n\\nthere are various types of comments, such as single-line comments, inline comments and multi-line comments\\nSingle-line comments, inline comments start with a hash symbol (#) in Python, while multi-line comments can be created using triple quotes /'/'/'. \\nThese comments help improve code readability and maintainability.\\n\""
      ]
     },
     "execution_count": 14,
     "metadata": {},
     "output_type": "execute_result"
    }
   ],
   "source": [
    "''' in programming languages comments are used to explain code or provide additional information, \n",
    "even though they are written in sourse code they are ignored by the interpreter\n",
    "\n",
    "there are various types of comments, such as single-line comments, inline comments and multi-line comments\n",
    "Single-line comments, inline comments start with a hash symbol (#) in Python, \n",
    "while multi-line comments can be created using triple quotes (' '' or \" \"\"). \n",
    "These comments help improve code readability and maintainability.\n",
    "'''"
   ]
  },
  {
   "cell_type": "markdown",
   "id": "c0f1a324",
   "metadata": {
    "deletable": false,
    "editable": false
   },
   "source": [
    "### 20) What is identifier and rules of identifiers with relative examples?"
   ]
  },
  {
   "cell_type": "code",
   "execution_count": null,
   "id": "bb772e0a",
   "metadata": {},
   "outputs": [],
   "source": []
  },
  {
   "cell_type": "markdown",
   "id": "9fbc29e3",
   "metadata": {
    "deletable": false,
    "editable": false
   },
   "source": [
    "### 21) What is variable and rules of variable with relative examples?"
   ]
  },
  {
   "cell_type": "code",
   "execution_count": 18,
   "id": "866d463c",
   "metadata": {},
   "outputs": [
    {
     "data": {
      "text/plain": [
       "\" in python variables are placeholders of a value that can be changed during program execution\\nrules of variables are that they must start with a letter or underscore, can contain letters, numbers, and underscores, and are case-sensitive.\\nAdditionally, variables should not be a reserved keyword and must be descriptive enough to convey their purpose.\\nand variables doesn't contain special characters and space ('_' is excluded) and couldn't start with a number \\nex:\\nvalid variables: name, name1, Name_1\\ninvalid variables: 1name, name-space, name@1\\n\""
      ]
     },
     "execution_count": 18,
     "metadata": {},
     "output_type": "execute_result"
    }
   ],
   "source": [
    "''' in python variables are placeholders of a value that can be changed during program execution\n",
    "rules of variables are that they must start with a letter or underscore, can contain letters, numbers, and underscores, and are case-sensitive.\n",
    "Additionally, variables should not be a reserved keyword and must be descriptive enough to convey their purpose.\n",
    "and variables doesn't contain special characters and space ('_' is excluded) and couldn't start with a number \n",
    "ex:\n",
    "valid variables: name, name1, Name_1\n",
    "invalid variables: 1name, name-space, name@1\n",
    "'''"
   ]
  },
  {
   "cell_type": "markdown",
   "id": "d83ef2e9",
   "metadata": {
    "deletable": false,
    "editable": false
   },
   "source": [
    "### 22) What is indentation?Explain with an examples"
   ]
  },
  {
   "cell_type": "code",
   "execution_count": 17,
   "id": "a4b7e7c0",
   "metadata": {},
   "outputs": [
    {
     "data": {
      "text/plain": [
       "'space value that separates blocks of code and improves readability\\n\\nexample: \\nfor i in range(10):\\n    print(i)\\nhere the indentation is defining print statement is in for loop black    \\n'"
      ]
     },
     "execution_count": 17,
     "metadata": {},
     "output_type": "execute_result"
    }
   ],
   "source": [
    "\"\"\"space value that separates blocks of code and improves readability\n",
    "\n",
    "example: \n",
    "for i in range(10):\n",
    "    print(i)\n",
    "here the indentation is defining print statement is in for loop black    \n",
    "\"\"\""
   ]
  }
 ],
 "metadata": {
  "kernelspec": {
   "display_name": "Python 3",
   "language": "python",
   "name": "python3"
  },
  "language_info": {
   "codemirror_mode": {
    "name": "ipython",
    "version": 3
   },
   "file_extension": ".py",
   "mimetype": "text/x-python",
   "name": "python",
   "nbconvert_exporter": "python",
   "pygments_lexer": "ipython3",
   "version": "3.13.3"
  }
 },
 "nbformat": 4,
 "nbformat_minor": 5
}
