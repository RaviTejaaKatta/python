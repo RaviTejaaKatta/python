{
 "cells": [
  {
   "attachments": {
    "c4.PNG": {
     "image/png": "[encoded data removed]"
    }
   },
   "cell_type": "markdown",
   "id": "f57084b8",
   "metadata": {
    "deletabl": false,
    "editable": false
   },
   "source": [
    "![c4.PNG](attachment:c4.PNG)"
   ]
  },
  {
   "cell_type": "markdown",
   "id": "b1d1b06d",
   "metadata": {
    "deletable": false,
    "editable": false
   },
   "source": [
    "<h2 style='color:hotpink' align='center'>MODULE: PYTHON LANGUAGE</h2>"
   ]
  },
  {
   "cell_type": "markdown",
   "id": "94227b6f",
   "metadata": {
    "deletable": false,
    "editable": false
   },
   "source": [
    "<h2 style='color:blue' align='center'>Topic: Operators</h2>"
   ]
  },
  {
   "cell_type": "markdown",
   "id": "cf9bc33d",
   "metadata": {},
   "source": [
    "<h2 style='color:#C60D25' align='center'>Assignment</h2>"
   ]
  },
  {
   "cell_type": "markdown",
   "id": "c2d4a960",
   "metadata": {
    "deletable": false,
    "editable": false
   },
   "source": [
    "<h2 style='color:black' align='left'>Instructions:</h2>"
   ]
  },
  {
   "cell_type": "markdown",
   "id": "9648efae",
   "metadata": {
    "deletable": false,
    "editable": false
   },
   "source": [
    "* Please complete below assignment on this jupyter notebook.Once complete please upload the file in your dashboard assignments block (where you are downloaded) as a .ipynb file format\n",
    "\n",
    "\n",
    "* Due date: To be submitted before teh next topic/session\n",
    "\n",
    "\n",
    "* Scoring/Marks: As per topic guidelines\n"
   ]
  },
  {
   "cell_type": "markdown",
   "id": "b8efe675",
   "metadata": {
    "deletable": false,
    "editable": false
   },
   "source": [
    "### 1) What is operator ? Explain different types of operators ?\n",
    "\n",
    "\n"
   ]
  },
  {
   "cell_type": "code",
   "execution_count": null,
   "id": "febdb6f0",
   "metadata": {},
   "outputs": [],
   "source": [
    "'''\n",
    "operators are special symbols that perform operations on variables and values.\n",
    "operators are used to perform operations on variables and values.\n",
    "'''\n",
    "\n",
    "\n",
    "'''different types of operators\n",
    "\n",
    "\n",
    "arithmetic, comparison, assignment, logical, identity, membership, bitwise\n",
    "arithmetic operators: +, -, *, /, //, %, ** (exponentiation)\n",
    "# comparison operators: ==, !=, >, <, >=, <=\n",
    "# assignment operators: =, +=, -=, *=, /=, //=, %=, **=, &=, |=, ^=, >>=, <<=\n",
    "# logical operators: and, or, not\n",
    "# identity operators: is, is not\n",
    "# membership operators: in, not in\n",
    "# bitwise operators: & (AND), | (OR), ^ (XOR), ~ (NOT), << (left shift), >> (right shift)\n",
    "\n",
    "'''\n",
    "\n",
    "\n",
    "\n",
    "\n",
    "\n"
   ]
  },
  {
   "cell_type": "markdown",
   "id": "5012c6cb",
   "metadata": {
    "deletable": false,
    "editable": false
   },
   "source": [
    "### 2) Write a code Based on given values to perform all arthamatic operations?\n",
    "#### a = 7  b = 12\n",
    "\n",
    "\n"
   ]
  },
  {
   "cell_type": "code",
   "execution_count": 2,
   "id": "a677f41a",
   "metadata": {},
   "outputs": [
    {
     "name": "stdout",
     "output_type": "stream",
     "text": [
      "Sum: 19\n",
      "Difference: -5\n",
      "Product: 84\n",
      "Quotient: 0.5833333333333334\n",
      "Remainder: 7\n",
      "Power: 13841287201\n",
      "Floor Division: 0\n"
     ]
    }
   ],
   "source": [
    "a, b = 7, 12\n",
    "print(\"Sum:\", a + b)\n",
    "print(\"Difference:\", a - b)\n",
    "print(\"Product:\", a * b)\n",
    "print(\"Quotient:\", a / b)\n",
    "print(\"Remainder:\", a % b)\n",
    "print(\"Power:\", a ** b)\n",
    "print(\"Floor Division:\", a // b)"
   ]
  },
  {
   "cell_type": "markdown",
   "id": "30af9066",
   "metadata": {
    "deletable": false,
    "editable": false
   },
   "source": [
    "### 3) Write a program to assign values and swap those values ?\n",
    "\n",
    "\n"
   ]
  },
  {
   "cell_type": "code",
   "execution_count": 3,
   "id": "8a700fab",
   "metadata": {},
   "outputs": [
    {
     "name": "stdout",
     "output_type": "stream",
     "text": [
      "a and b values at first: 7 12\n",
      "a and b values after swapping: 12 7\n"
     ]
    }
   ],
   "source": [
    "\n",
    "\n",
    "a, b = 7, 12\n",
    "print(\"a and b values at first:\", a, b)\n",
    "temp = a\n",
    "a = b\n",
    "b = temp\n",
    "print(\"a and b values after swapping:\", a, b)\n",
    "\n"
   ]
  },
  {
   "cell_type": "markdown",
   "id": "4b4af868",
   "metadata": {
    "deletable": false,
    "editable": false
   },
   "source": [
    "### 4) Write a program to compare 2 values using comparision operators.\n",
    "#### a = 88 b = 98\n",
    "\n"
   ]
  },
  {
   "cell_type": "code",
   "execution_count": 4,
   "id": "757f0835",
   "metadata": {},
   "outputs": [
    {
     "name": "stdout",
     "output_type": "stream",
     "text": [
      "a == b: False\n",
      "a != b: True\n",
      "a > b: False\n",
      "a < b: True\n",
      "a >= b: False\n",
      "a <= b: True\n"
     ]
    }
   ],
   "source": [
    "\"program on comparision operators\"\n",
    "a, b  = 88, 98\n",
    "print(\"a == b:\", a == b)\n",
    "print(\"a != b:\", a != b)\n",
    "print(\"a > b:\", a > b)\n",
    "print(\"a < b:\", a < b)\n",
    "print(\"a >= b:\", a >= b)\n",
    "print(\"a <= b:\", a <= b)\n"
   ]
  },
  {
   "cell_type": "markdown",
   "id": "3620400d",
   "metadata": {
    "deletable": false,
    "editable": false
   },
   "source": [
    "### 5) Write a program to accept three number from the user and add numbers?\n",
    "\n"
   ]
  },
  {
   "cell_type": "code",
   "execution_count": 5,
   "id": "31f9ecf1",
   "metadata": {},
   "outputs": [
    {
     "name": "stdout",
     "output_type": "stream",
     "text": [
      "15\n"
     ]
    }
   ],
   "source": [
    "\n",
    "\n",
    "\n",
    "a = int(input(\"Enter a number: \"))\n",
    "b = int(input(\"Enter another number: \"))\n",
    "c = int(input(\"Enter another number: \"))    \n",
    "print((a+b+c))\n",
    "\n"
   ]
  },
  {
   "cell_type": "markdown",
   "id": "661b0713",
   "metadata": {
    "deletable": false,
    "editable": false
   },
   "source": [
    "### 6) Write a program to accept three number from the user as input, Find the average of 3 numbers?\n",
    "\n"
   ]
  },
  {
   "cell_type": "code",
   "execution_count": 6,
   "id": "0c69c6c7",
   "metadata": {},
   "outputs": [
    {
     "name": "stdout",
     "output_type": "stream",
     "text": [
      "5.0\n"
     ]
    }
   ],
   "source": [
    "\n",
    "\n",
    "\n",
    "a = int(input(\"Enter a number: \"))\n",
    "b = int(input(\"Enter another number: \"))\n",
    "c = int(input(\"Enter another number: \"))    \n",
    "print((a+b+c)/3)\n",
    "\n"
   ]
  },
  {
   "cell_type": "markdown",
   "id": "912f726c",
   "metadata": {
    "deletable": false,
    "editable": false
   },
   "source": [
    "### 7) Write a program to accept three number from the user as input, Find the smmall number of given 3 numbers?\n",
    "\n",
    "\n"
   ]
  },
  {
   "cell_type": "code",
   "execution_count": 7,
   "id": "cbb0e4dc",
   "metadata": {},
   "outputs": [
    {
     "name": "stdout",
     "output_type": "stream",
     "text": [
      "4\n"
     ]
    }
   ],
   "source": [
    "\n",
    "a = int(input(\"Enter a number: \"))\n",
    "b = int(input(\"Enter another number: \"))\n",
    "c = int(input(\"Enter another number: \"))    \n",
    "print(min(a, b, c))\n"
   ]
  },
  {
   "cell_type": "markdown",
   "id": "0be4b4f8",
   "metadata": {
    "deletable": false,
    "editable": false
   },
   "source": [
    "### 8) Write a program to find the square root of given numbers\n",
    "#### 1) 123  2) 332  3) 244  4) 545  5) 898\n",
    "\n",
    "\n"
   ]
  },
  {
   "cell_type": "code",
   "execution_count": 1,
   "id": "673302d6",
   "metadata": {},
   "outputs": [
    {
     "name": "stdout",
     "output_type": "stream",
     "text": [
      "11.090536506409418\n",
      "18.2208671582886\n",
      "15.620499351813308\n",
      "23.345235059857504\n",
      "29.966648127543394\n"
     ]
    }
   ],
   "source": [
    "\n",
    "import math\n",
    "\n",
    "print(math.sqrt(123))\n",
    "print(math.sqrt(332))\n",
    "print(math.sqrt(244))\n",
    "print(math.sqrt(545))\n",
    "print(math.sqrt(898))\n"
   ]
  },
  {
   "cell_type": "markdown",
   "id": "3134595d",
   "metadata": {
    "deletable": false,
    "editable": false
   },
   "source": [
    "### 9) Write a program to find the square and cube of given numbers\n",
    "### 1) 12 2) 23 3) 43  4) 34 5) 78\n",
    "\n",
    "\n"
   ]
  },
  {
   "cell_type": "code",
   "execution_count": null,
   "id": "49e0fea5",
   "metadata": {},
   "outputs": [
    {
     "name": "stdout",
     "output_type": "stream",
     "text": [
      "square of number 12 144 \n",
      " cube of number 12 1728\n",
      "square of number 23 529 \n",
      " cube of number 23 12167\n",
      "square of number 43 1849 \n",
      " cube of number 43 79507\n",
      "square of number 34 1156 \n",
      " cube of number 34 39304\n",
      "square of number 78 6084 \n",
      " cube of number 78 474552\n"
     ]
    }
   ],
   "source": [
    "\n",
    "# squares\n",
    "print(\"square of number 12\", 12**2,\"\\n\", \"cube of number 12\", 12**3)\n",
    "print(\"square of number 23\", 23**2,\"\\n\", \"cube of number 23\", 23**3)\n",
    "print(\"square of number 43\", 43**2,\"\\n\", \"cube of number 43\", 43**3)\n",
    "print(\"square of number 34\", 34**2,\"\\n\", \"cube of number 34\", 34**3)\n",
    "print(\"square of number 78\", 78**2,\"\\n\", \"cube of number 78\", 78**3)\n"
   ]
  },
  {
   "cell_type": "markdown",
   "id": "4196ca5a",
   "metadata": {
    "deletable": false,
    "editable": false
   },
   "source": [
    "### 10) What is bitwise operator? Explain bitwise operators with relevant examples?\n",
    "\n",
    "\n"
   ]
  },
  {
   "cell_type": "code",
   "execution_count": 13,
   "id": "92a9aec0",
   "metadata": {},
   "outputs": [
    {
     "name": "stdout",
     "output_type": "stream",
     "text": [
      "a & b: 0\n",
      "a | b: 14\n",
      "a ^ b: 14\n",
      "~a: -11\n",
      "~b: -5\n",
      "a << 2: 40\n",
      "a >> 2: 2\n"
     ]
    }
   ],
   "source": [
    "# bitwise operator \n",
    "''' bitwise operator is used to perform bitwise operations on binary numbers.\n",
    "and, or, xor, not, left shift, right shift\n",
    "# and operator: &\n",
    "# or operator: |\n",
    "# xor operator: ^\n",
    "# not operator: ~\n",
    "# left shift operator: <<\n",
    "# right shift operator: >>\n",
    "# example:'''\n",
    "a = 10 # 1010  # binary representation of 10\n",
    "b = 4  # 0100  # binary representation of 4\n",
    "print(\"a & b:\", a & b) # 0000  # binary representation of 0\n",
    "print(\"a | b:\", a | b) # 1110  # binary representation of 14\n",
    "print(\"a ^ b:\", a ^ b) # 1110  # binary representation of 14\n",
    "print(\"~a:\", ~a) # 0101  # binary representation of -11\n",
    "print(\"~b:\", ~b) # 1011  # binary representation of -5\n",
    "print(\"a << 2:\", a << 2) # 101000  # binary representation of 40\n",
    "print(\"a >> 2:\", a >> 2) # 0010  # binary representation of 2\n",
    "\n"
   ]
  },
  {
   "cell_type": "markdown",
   "id": "4acb0c84",
   "metadata": {
    "deletable": false,
    "editable": false
   },
   "source": [
    "### 11) What is membership operators and explain with relevant examples?\n",
    "\n",
    "\n"
   ]
  },
  {
   "cell_type": "code",
   "execution_count": 11,
   "id": "6cd315b6",
   "metadata": {},
   "outputs": [
    {
     "name": "stdout",
     "output_type": "stream",
     "text": [
      "in operator: True\n",
      "not in operator: False\n"
     ]
    }
   ],
   "source": [
    "\n",
    "'''member ship operators\n",
    "in, not in\n",
    "in operator is used to check if a value is present in a sequence (string, list, tuple, set, dictionary)\n",
    "not in operator is used to check if a value is not present in a sequence (string, list, tuple, set, dictionary)\n",
    "'''\n",
    "# membership operators example\n",
    "a = [1, 2, 3, 4, 5]\n",
    "print(\"in operator:\", 3 in a)   \n",
    "print(\"not in operator:\", 3 not in a)\n",
    "\n",
    "\n"
   ]
  },
  {
   "cell_type": "markdown",
   "id": "ecf16a25",
   "metadata": {
    "deletable": false,
    "editable": false
   },
   "source": [
    "### 12) What is identity operators and explain with relevant examples?\n",
    "\n",
    "\n"
   ]
  },
  {
   "cell_type": "code",
   "execution_count": 12,
   "id": "b9b7024f",
   "metadata": {},
   "outputs": [
    {
     "name": "stdout",
     "output_type": "stream",
     "text": [
      "identity operators: False\n",
      "identity operator  True\n"
     ]
    }
   ],
   "source": [
    "\n",
    "''' identity operators\n",
    "is, is not\n",
    "is operator is used to check if two variables point to the same object in memory\n",
    "is not operator is used to check if two variables do not point to the same object in memory\n",
    "'''\n",
    "# identity operators example\n",
    "a = [1, 2, 3]\n",
    "b = [4, 5, 6]\n",
    "print(\"identity operators:\", a is b)\n",
    "print(\"identity operator \", a is not b)"
   ]
  }
 ],
 "metadata": {
  "kernelspec": {
   "display_name": "Python 3",
   "language": "python",
   "name": "python3"
  },
  "language_info": {
   "codemirror_mode": {
    "name": "ipython",
    "version": 3
   },
   "file_extension": ".py",
   "mimetype": "text/x-python",
   "name": "python",
   "nbconvert_exporter": "python",
   "pygments_lexer": "ipython3",
   "version": "3.13.3"
  }
 },
 "nbformat": 4,
 "nbformat_minor": 5
}
