{
 "cells": [
  {
   "attachments": {
    "c4.PNG": {
     "image/png": "[encoded data removed]"
    }
   },
   "cell_type": "markdown",
   "id": "aa1d3759",
   "metadata": {
    "deletable": false,
    "editable": false
   },
   "source": [
    "![c4.PNG](attachment:c4.PNG)"
   ]
  },
  {
   "cell_type": "markdown",
   "id": "df5d6e78",
   "metadata": {
    "deletable": false,
    "editable": false
   },
   "source": [
    "<h2 style='color:hotpink' align='center'>MODULE: PYTHON LANGUAGE</h2>"
   ]
  },
  {
   "cell_type": "markdown",
   "id": "fc17cfe4",
   "metadata": {
    "deletable": false,
    "editable": false
   },
   "source": [
    "<h2 style='color:blue' align='center'>Topic: Data Type & Type Casting</h2>"
   ]
  },
  {
   "cell_type": "markdown",
   "id": "cf9bc33d",
   "metadata": {
    "deletable": false,
    "editable": false
   },
   "source": [
    "<h2 style='color:#C60D25' align='center'>Assignment</h2>"
   ]
  },
  {
   "cell_type": "markdown",
   "id": "c2d4a960",
   "metadata": {
    "deletable": false,
    "editable": false
   },
   "source": [
    "<h2 style='color:black' align='left'>Instructions:</h2>"
   ]
  },
  {
   "cell_type": "markdown",
   "id": "9648efae",
   "metadata": {
    "deletable": false,
    "editable": false
   },
   "source": [
    "* Please complete below assignment on this jupyter notebook.Once complete please upload the file in your dashboard assignments block (where you are downloaded) as a .ipynb file format\n",
    "\n",
    "\n",
    "* Due date: To be submitted before teh next topic/session\n",
    "\n",
    "\n",
    "* Scoring/Marks: As per topic guidelines\n"
   ]
  },
  {
   "cell_type": "markdown",
   "id": "21240221",
   "metadata": {
    "deletable": false,
    "editable": false
   },
   "source": [
    "\n",
    "### 1) What is data type? What are different data types available in python?\n",
    "\n",
    "\n"
   ]
  },
  {
   "cell_type": "code",
   "execution_count": null,
   "id": "f828c3be",
   "metadata": {},
   "outputs": [],
   "source": [
    "# data type is a classification of data items\n",
    "# data types determine the type of value a variable can hold\n",
    "# typews of data types in python\n",
    "# 1. Numeric data types : int float complex \n",
    "# 2. Character based data types : str char\n",
    "# 3. Boolean data types : True False\n",
    "# 4. Hashmap data types : dict set \n",
    "# 5. Set data types :set \n",
    "# 6. None data types : NoneType"
   ]
  },
  {
   "cell_type": "markdown",
   "id": "628005bd",
   "metadata": {
    "deletable": false,
    "editable": false
   },
   "source": [
    "### 2) Give brief explanation of given data types and relevant examples?\n",
    "\n",
    "#### 1) int 2) float 3) complex  4) boolean 5) string\n",
    "\n",
    "\n"
   ]
  },
  {
   "cell_type": "code",
   "execution_count": 15,
   "id": "43bc2628",
   "metadata": {},
   "outputs": [
    {
     "data": {
      "text/plain": [
       "'breif description of int, float, complex, boolean, string data types\\n# int : integer data type, whole numbers, positive or negative, no decimal point\\n# float : floating point data type, decimal numbers, positive or negative, decimal point is present\\n# complex : complex numbers, a + bj, where a is real part and b is imaginary part, j is the square root of -1\\n# boolean : boolean data type, True or False, 1 or 0, used for logical operations\\n# string : string data type, sequence of characters, enclosed in single or double quotes, can be indexed and sliced\\n'"
      ]
     },
     "execution_count": 15,
     "metadata": {},
     "output_type": "execute_result"
    }
   ],
   "source": [
    "'''breif description of int, float, complex, boolean, string data types\n",
    "# int : integer data type, whole numbers, positive or negative, no decimal point\n",
    "# float : floating point data type, decimal numbers, positive or negative, decimal point is present\n",
    "# complex : complex numbers, a + bj, where a is real part and b is imaginary part, j is the square root of -1\n",
    "# boolean : boolean data type, True or False, 1 or 0, used for logical operations\n",
    "# string : string data type, sequence of characters, enclosed in single or double quotes, can be indexed and sliced\n",
    "'''"
   ]
  },
  {
   "cell_type": "markdown",
   "id": "85ac84a1",
   "metadata": {
    "deletable": false,
    "editable": false
   },
   "source": [
    "### 3) Write a program a = 2+3j find the real value and imaginary value ?\n",
    "\n",
    "\n"
   ]
  },
  {
   "cell_type": "code",
   "execution_count": null,
   "id": "8afc6e49",
   "metadata": {},
   "outputs": [
    {
     "name": "stdout",
     "output_type": "stream",
     "text": [
      "2.0 3.0\n",
      "a = 2 + 3j \n",
      "in this the number next to letter \"j\" is the imaginary part of a complex number and the numerical number is real number \n"
     ]
    }
   ],
   "source": [
    "'''a = 2 + 3j \n",
    "in this the number next to letter \"j\" is the imaginary part of a complex number and the numerical number is real number '''\n",
    "a = 2 + 3j\n",
    "print(a.real, a.imag)\n"
   ]
  },
  {
   "cell_type": "markdown",
   "id": "5e08cf88",
   "metadata": {
    "deletable": false,
    "editable": false
   },
   "source": [
    "### 4) find the data type and id of the given variables\n",
    "\n",
    "####  1) a = 123   2)b = 123.233   3)c =  2+3j   4)d =  True  5) e = \"44\"  6) f = \"cedlern\"\n",
    "\n",
    "\n"
   ]
  },
  {
   "cell_type": "code",
   "execution_count": 4,
   "id": "ed5497d8",
   "metadata": {},
   "outputs": [
    {
     "name": "stdout",
     "output_type": "stream",
     "text": [
      "<class 'int'>\n",
      "<class 'float'>\n",
      "<class 'complex'>\n",
      "<class 'bool'>\n",
      "<class 'str'>\n",
      "<class 'str'>\n"
     ]
    }
   ],
   "source": [
    "a = 123\n",
    "print(type(a))\n",
    "b = 123.233 \n",
    "print(type(b))  \n",
    "c =  2+3j   \n",
    "print(type(c))\n",
    "d =  True  \n",
    "print(type(d))\n",
    "e = \"44\"  \n",
    "print(type(e))\n",
    "f = \"cedlern\"\n",
    "print(type(f))"
   ]
  },
  {
   "cell_type": "markdown",
   "id": "fc6f2cf7",
   "metadata": {
    "deletable": false,
    "editable": false
   },
   "source": [
    "### 5) What is type casting Explain with relevant examples?\n",
    "\n",
    "\n"
   ]
  },
  {
   "cell_type": "code",
   "execution_count": null,
   "id": "90ace36b",
   "metadata": {},
   "outputs": [],
   "source": [
    "''' \n",
    "conversion of a variable's data type to another data type is called type casting\n",
    "it can change th eproperties of a variable\n",
    "it can be done using the following functions:\n",
    "int(), float(), complex(), bool(), str() --> all are seld explanatory\n",
    "\n",
    "'''"
   ]
  },
  {
   "cell_type": "markdown",
   "id": "3634392b",
   "metadata": {
    "deletable": false,
    "editable": false
   },
   "source": [
    "### 6) Write a program to conver given values into int datatype? it is possible are not?\n",
    "### if possible - why? if not - why? Write in comments.\n",
    "\n",
    "### a) \"4\"  b) False  3) \"true\"  4) \"78.99\" 5) 3+4j  \n",
    "\n",
    "\n"
   ]
  },
  {
   "cell_type": "code",
   "execution_count": 5,
   "id": "c07b2403",
   "metadata": {},
   "outputs": [
    {
     "name": "stdout",
     "output_type": "stream",
     "text": [
      "1\n"
     ]
    }
   ],
   "source": [
    "a = True\n",
    "print(int(a))\n",
    "\n",
    "print(int(\"4\"))\n",
    "\n",
    "print(int(\"true\")) # this will give error as \"true\" is not a number\n",
    "print(int(\"78.99\")) # this will give error as \"78.99\" is not a number"
   ]
  },
  {
   "cell_type": "markdown",
   "id": "11deb90b",
   "metadata": {
    "deletable": false,
    "editable": false
   },
   "source": [
    "### 7) Write a program to convert given values into float datatype ? it is possible are not?\n",
    "### if possible - why? if not - why? Write in comments.\n",
    "\n",
    "#### a) \"3\"  b) True  3) \"false\"  4) \"8.99\" 5) 8+4j  6) 45 8) \"2+3j\"\n",
    "\n",
    "\n"
   ]
  },
  {
   "cell_type": "code",
   "execution_count": 8,
   "id": "d39ea198",
   "metadata": {},
   "outputs": [
    {
     "name": "stdout",
     "output_type": "stream",
     "text": [
      "3.0\n",
      "1.0\n",
      "false cannot be converted to float\n",
      "8.99\n",
      "(8+4j) cannot be converted to float\n",
      "45.0\n",
      "2+3j cannot be converted to float\n"
     ]
    }
   ],
   "source": [
    "def conversion_float(value):\n",
    "\n",
    "\n",
    "    try:\n",
    "        return float(value)\n",
    "    except Exception as e:\n",
    "        return f\"{value} cannot be converted to float\"\n",
    "    \n",
    "print(conversion_float(\"3\"))\n",
    "print(conversion_float(True))\n",
    "print(conversion_float(\"false\"))\n",
    "print(conversion_float(\"8.99\"))\n",
    "print(conversion_float(8+4j))\n",
    "print(conversion_float(45))\n",
    "print(conversion_float(\"2+3j\"))\n",
    "    "
   ]
  },
  {
   "cell_type": "markdown",
   "id": "97deb010",
   "metadata": {
    "deletable": false,
    "editable": false
   },
   "source": [
    "### 8) Write a program to convert given values into bool datatype ?it is possible are not?\n",
    "### if possible - why? if not - why? Write in comments.\n",
    "\n",
    "#### a) \"34\"  b) \"False\"  3) \"true\"  4) \"7.99\" 5) 5+4j  6) 3.4\n",
    "\n",
    "\n"
   ]
  },
  {
   "cell_type": "code",
   "execution_count": 3,
   "id": "7e189d9d",
   "metadata": {},
   "outputs": [
    {
     "name": "stdout",
     "output_type": "stream",
     "text": [
      "True\n",
      "True\n",
      "True\n",
      "True\n",
      "True\n",
      "True\n"
     ]
    }
   ],
   "source": [
    "num = \"34\"\n",
    "num_bool = bool(num)\n",
    "print(num_bool)\n",
    "\n",
    "F_string = \"False\"\n",
    "print(bool(F_string))\n",
    "\n",
    "Tstring = \"true\"\n",
    "print(bool(Tstring))\n",
    "\n",
    "print(bool(\"7.99\"))\n",
    "\n",
    "comp = 5+4j\n",
    "print(bool(comp))\n",
    "\n",
    "print(bool(3.4))\n",
    "\n",
    "''' this happened because non-empty strings, numbers other than zero, \n",
    "and any non null values ar econsidered as True if converted to boolean data type'''"
   ]
  },
  {
   "cell_type": "markdown",
   "id": "b670eb9a",
   "metadata": {
    "deletable": false,
    "editable": false
   },
   "source": [
    "### 9) Write a program to convert given values into complex datatype ?it is possible are not?\n",
    "### if possible - why? if not - why? Write in comments.\n",
    "\n",
    "#### a) \"314\"  b) False  3) \"true\"  4) \"78.99\" 5) \"3+4j\"  6) 33.0  \n",
    " \n",
    "\n"
   ]
  },
  {
   "cell_type": "code",
   "execution_count": 14,
   "id": "c8e17aa7",
   "metadata": {},
   "outputs": [
    {
     "name": "stdout",
     "output_type": "stream",
     "text": [
      "(314+0j)\n",
      "0j\n",
      "true cannot be converted to complex number\n",
      "(78.99+0j)\n",
      "(3+4j)\n",
      "(33+0j)\n"
     ]
    }
   ],
   "source": [
    "def complex_conversion(value):\n",
    "\n",
    "\n",
    "    try:\n",
    "        return complex(value)\n",
    "    except Exception as e:\n",
    "        return f\"{value} cannot be converted to complex number\"\n",
    "    \n",
    "\n",
    "print(complex_conversion(\"314\"))  # can be  converted to int and then to to complex\n",
    "print(complex_conversion(False))  # can be  converted to int(0) and then to to complex\n",
    "print(complex_conversion(\"true\"))   # can't be  converted to int, because it's a string\n",
    "print(complex_conversion(\"78.99\"))  # can be  converted to float and then to to complex\n",
    "print(complex_conversion(\"3+4j\"))  # can be  converted to complex number directly\n",
    "print(complex_conversion(33.0))  # can be  converted to complex number directly\n",
    "\n"
   ]
  },
  {
   "cell_type": "markdown",
   "id": "848e83bc",
   "metadata": {
    "deletable": false,
    "editable": false
   },
   "source": [
    "### 10) Write a program to convert given values into string datatype ?it is possible are not?\n",
    "### if possible - why? if not - why? Write in comments.\n",
    "\n",
    "#### a) 314  b) False   3) 78.99 4) 3+4j  \n",
    "\n",
    "\n"
   ]
  },
  {
   "cell_type": "code",
   "execution_count": 7,
   "id": "e6d37cc9",
   "metadata": {},
   "outputs": [
    {
     "name": "stdout",
     "output_type": "stream",
     "text": [
      "314\n",
      "0\n",
      "78\n",
      "(3+4j) cannot be converted to int\n"
     ]
    }
   ],
   "source": [
    "def conversion(value):\n",
    "\n",
    "\n",
    "    try:\n",
    "        return int(value)\n",
    "    except Exception as e:\n",
    "        return f\"{value} cannot be converted to int\"\n",
    "    \n",
    "\n",
    "print(conversion(314))\n",
    "print(conversion(False))  # in python False is 0 and True is 1\n",
    "print(conversion(78.99))\n",
    "print(conversion(3+4j))   # complex number cannot be converted to int because it has real and imaginary part\n",
    "\n",
    "\n"
   ]
  }
 ],
 "metadata": {
  "kernelspec": {
   "display_name": "Python 3",
   "language": "python",
   "name": "python3"
  },
  "language_info": {
   "codemirror_mode": {
    "name": "ipython",
    "version": 3
   },
   "file_extension": ".py",
   "mimetype": "text/x-python",
   "name": "python",
   "nbconvert_exporter": "python",
   "pygments_lexer": "ipython3",
   "version": "3.13.3"
  }
 },
 "nbformat": 4,
 "nbformat_minor": 5
}
