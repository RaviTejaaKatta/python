{
 "cells": [
  {
   "attachments": {
    "c4.PNG": {
     "image/png": "[encoded data removed]"
    }
   },
   "cell_type": "markdown",
   "id": "1011a22d",
   "metadata": {
    "deletable": false,
    "editable": false
   },
   "source": [
    "![c4.PNG](attachment:c4.PNG)"
   ]
  },
  {
   "cell_type": "markdown",
   "id": "56997e76",
   "metadata": {
    "deletable": false,
    "editable": false
   },
   "source": [
    "<h2 style='color:hotpink' align='center'>MODULE: PYTHON LANGUAGE</h2>"
   ]
  },
  {
   "cell_type": "markdown",
   "id": "4e24b06e",
   "metadata": {
    "deletable": false,
    "editable": false
   },
   "source": [
    "<h2 style='color:blue' align='center'>Topic: For Loop</h2>"
   ]
  },
  {
   "cell_type": "markdown",
   "id": "cf9bc33d",
   "metadata": {
    "deletable": false,
    "editable": false
   },
   "source": [
    "<h2 style='color:#C60D25' align='center'>Assignment</h2>"
   ]
  },
  {
   "cell_type": "markdown",
   "id": "7f960f3e",
   "metadata": {
    "deletable": false,
    "editable": false
   },
   "source": [
    "<h2 style='color:black' align='left'>Instructions:</h2>"
   ]
  },
  {
   "cell_type": "markdown",
   "id": "aa781e91",
   "metadata": {
    "deletable": false,
    "editable": false
   },
   "source": [
    "* Please complete below assignment on this jupyter notebook.Once complete please upload the file in your dashboard assignments block (where you are downloaded) as a .ipynb file format\n",
    "\n",
    "\n",
    "* Due date: To be submitted before teh next topic/session\n",
    "\n",
    "\n",
    "* Scoring/Marks: As per topic guidelines\n"
   ]
  },
  {
   "cell_type": "markdown",
   "id": "b3fe319d",
   "metadata": {
    "deletable": false,
    "editable": false
   },
   "source": [
    "### 1) Write a program to generate the 1 to n  numbers and sum of the numbers\n",
    "\n",
    "\n"
   ]
  },
  {
   "cell_type": "code",
   "execution_count": 2,
   "id": "71bdfe57",
   "metadata": {},
   "outputs": [
    {
     "name": "stdout",
     "output_type": "stream",
     "text": [
      "0\n",
      "1\n",
      "2\n",
      "3\n",
      "4\n",
      "Sum of first 5 natural numbers is: 10\n"
     ]
    }
   ],
   "source": [
    "n = int(input(\"Enter the number of elements: \"))\n",
    "sum = 0\n",
    "for i in range(n):\n",
    "    print(i)\n",
    "    sum += i\n",
    "print(\"Sum of first\", n, \"natural numbers is:\", sum)\n"
   ]
  },
  {
   "cell_type": "markdown",
   "id": "2bd29232",
   "metadata": {
    "deletable": false,
    "editable": false
   },
   "source": [
    "### 2) write a python program to generate the multible table based on user input() \n",
    "\n",
    "\n"
   ]
  },
  {
   "cell_type": "code",
   "execution_count": 8,
   "id": "4e2c3f18",
   "metadata": {},
   "outputs": [
    {
     "name": "stdout",
     "output_type": "stream",
     "text": [
      "2 X 1 = 2\n",
      "2 X 2 = 4\n",
      "2 X 3 = 6\n",
      "2 X 4 = 8\n",
      "2 X 5 = 10\n",
      "2 X 6 = 12\n",
      "2 X 7 = 14\n",
      "2 X 8 = 16\n",
      "2 X 9 = 18\n",
      "2 X 10 = 20\n",
      "3 X 1 = 3\n",
      "3 X 2 = 6\n",
      "3 X 3 = 9\n",
      "3 X 4 = 12\n",
      "3 X 5 = 15\n",
      "3 X 6 = 18\n",
      "3 X 7 = 21\n",
      "3 X 8 = 24\n",
      "3 X 9 = 27\n",
      "3 X 10 = 30\n"
     ]
    }
   ],
   "source": [
    "mul = input(\"Enter a number to find its multiplication table: \").split()\n",
    "for i in mul:\n",
    "    for j in range(1, 11):\n",
    "        print(f\"{i} X {j} = {int(i) * j}\")  \n",
    "    \n"
   ]
  },
  {
   "cell_type": "markdown",
   "id": "1023e526",
   "metadata": {
    "deletable": false,
    "editable": false
   },
   "source": [
    "### 3) write a python program to generate the multible table 5,6,7 one after another by  using for loop table start with 11 and end with 20 \n",
    "\n",
    "\n"
   ]
  },
  {
   "cell_type": "code",
   "execution_count": 9,
   "id": "b7268bca",
   "metadata": {},
   "outputs": [
    {
     "name": "stdout",
     "output_type": "stream",
     "text": [
      "5 X 1 = 5\n",
      "5 X 2 = 10\n",
      "5 X 3 = 15\n",
      "5 X 4 = 20\n",
      "5 X 5 = 25\n",
      "5 X 6 = 30\n",
      "5 X 7 = 35\n",
      "5 X 8 = 40\n",
      "5 X 9 = 45\n",
      "5 X 10 = 50\n",
      "6 X 1 = 6\n",
      "6 X 2 = 12\n",
      "6 X 3 = 18\n",
      "6 X 4 = 24\n",
      "6 X 5 = 30\n",
      "6 X 6 = 36\n",
      "6 X 7 = 42\n",
      "6 X 8 = 48\n",
      "6 X 9 = 54\n",
      "6 X 10 = 60\n",
      "7 X 1 = 7\n",
      "7 X 2 = 14\n",
      "7 X 3 = 21\n",
      "7 X 4 = 28\n",
      "7 X 5 = 35\n",
      "7 X 6 = 42\n",
      "7 X 7 = 49\n",
      "7 X 8 = 56\n",
      "7 X 9 = 63\n",
      "7 X 10 = 70\n"
     ]
    }
   ],
   "source": [
    "mul = [5,6,7]\n",
    "for i in mul:\n",
    "    for j in range(1, 11):\n",
    "        print(f\"{i} X {j} = {int(i) * j}\")\n",
    "\n",
    "\n"
   ]
  },
  {
   "cell_type": "markdown",
   "id": "a84cdb53",
   "metadata": {
    "deletable": false,
    "editable": false
   },
   "source": [
    "### 4) Write a python program find the sum of even number based on user input \n",
    "### user input take start value and end values\n",
    "\n",
    "\n"
   ]
  },
  {
   "cell_type": "code",
   "execution_count": null,
   "id": "1f2f769e",
   "metadata": {},
   "outputs": [],
   "source": [
    "\n",
    "\n",
    "\n"
   ]
  },
  {
   "cell_type": "markdown",
   "id": "1c639bf7",
   "metadata": {
    "deletable": false,
    "editable": false
   },
   "source": [
    "### 6) Write a python program find the sum of Odd number based on user input \n",
    "### user input take start value and end values\n",
    "\n",
    "\n"
   ]
  },
  {
   "cell_type": "code",
   "execution_count": null,
   "id": "737eccce",
   "metadata": {},
   "outputs": [],
   "source": [
    "\n",
    "\n",
    "\n"
   ]
  },
  {
   "cell_type": "markdown",
   "id": "d3f61851",
   "metadata": {
    "deletable": false,
    "editable": false
   },
   "source": [
    "### 7) Write a python program Fibonacci Series Program between the two intrvels \n",
    "\n",
    "\n"
   ]
  },
  {
   "cell_type": "code",
   "execution_count": null,
   "id": "8f3caa37",
   "metadata": {},
   "outputs": [],
   "source": [
    "\n",
    "\n",
    "\n"
   ]
  },
  {
   "cell_type": "markdown",
   "id": "79202bc1",
   "metadata": {
    "deletable": false,
    "editable": false
   },
   "source": [
    "### 8) Write a python  program find the factorial of given number \n",
    "\n",
    "### 5!=5*4*3*2*1\n",
    "\n"
   ]
  },
  {
   "cell_type": "code",
   "execution_count": 11,
   "id": "4b432fde",
   "metadata": {},
   "outputs": [
    {
     "name": "stdout",
     "output_type": "stream",
     "text": [
      "120\n"
     ]
    }
   ],
   "source": [
    "fact = 1\n",
    "for i in range(5, 1, -1):\n",
    "    fact *= i\n",
    "print(fact)\n",
    "\n",
    "\n"
   ]
  },
  {
   "cell_type": "markdown",
   "id": "09a3a322",
   "metadata": {
    "deletable": false,
    "editable": false
   },
   "source": [
    "### 9) Write a python program to display the each characters a with negative and positive index"
   ]
  },
  {
   "cell_type": "code",
   "execution_count": 15,
   "id": "a80b8432",
   "metadata": {},
   "outputs": [
    {
     "name": "stdout",
     "output_type": "stream",
     "text": [
      "P 0 y 1 t 2 h 3 o 4 n 5 \n",
      "\n",
      "P -6 y -5 t -4 h -3 o -2 n -1 P 0 \n",
      "\n"
     ]
    }
   ],
   "source": [
    "# Write a python program to display the each characters a with negative and positive index\n",
    "s= \"Python\"\n",
    "for i in range( len(s)):\n",
    "    print(s[i], i, end=\" \")\n",
    "print(\"\\n\")\n",
    "# Write a python program to display the each characters a with negative and positive index\n",
    "s= \"Python\"\n",
    "for i in range(-len(s), 1):\n",
    "    print(s[i], i, end=\" \")\n",
    "print(\"\\n\")\n"
   ]
  },
  {
   "cell_type": "markdown",
   "id": "e80e5374",
   "metadata": {
    "deletable": false,
    "editable": false
   },
   "source": [
    "### 10) Write a python program to find the count of the Vowels in the given string.\n",
    "\n",
    "### mystring = \"ython is a high-level, general-purpose programming language. Its design philosophy emphasizes code readability with the use of significant indentation via the off-side rule. Python is dynamically typed and garbage-collected\""
   ]
  },
  {
   "cell_type": "code",
   "execution_count": 17,
   "id": "91ee9d8d",
   "metadata": {},
   "outputs": [
    {
     "name": "stdout",
     "output_type": "stream",
     "text": [
      "Number of vowels in the string: 71\n"
     ]
    }
   ],
   "source": [
    "\n",
    "'''Write a python program to find the count of the Vowels in the given string.\n",
    "\n",
    "### mystring = \"ython is a high-level, general-purpose programming language. Its design philosophy emphasizes code readability with the use of significant indentation via the off-side rule. Python is dynamically typed and garbage-collected\"'''\n",
    "\n",
    "my_string = \"ython is a high-level, general-purpose programming language. Its design philosophy emphasizes code readability with the use of significant indentation via the off-side rule. Python is dynamically typed and garbage-collected\"\n",
    "vowels = \"aeiouAEIOU\"\n",
    "count = 0\n",
    "for char in my_string:\n",
    "    if char in vowels:\n",
    "        count += 1  \n",
    "print(\"Number of vowels in the string:\", count)"
   ]
  },
  {
   "cell_type": "markdown",
   "id": "eb16a987",
   "metadata": {
    "deletable": false,
    "editable": false
   },
   "source": [
    "### 11) Write a python program to find the duplicate value product of the given list\n",
    "\n",
    "### a [1,1,2,3,4,5,5,5,6,6,6,7,8,]"
   ]
  },
  {
   "cell_type": "code",
   "execution_count": 18,
   "id": "42c4aed5",
   "metadata": {},
   "outputs": [
    {
     "name": "stdout",
     "output_type": "stream",
     "text": [
      "[1, 2, 3, 4, 5, 6, 7, 8]\n"
     ]
    }
   ],
   "source": [
    "### 11) Write a python program to find the duplicate value product of the given list\n",
    "\n",
    "### a [1,1,2,3,4,5,5,5,6,6,6,7,8,]\n",
    "# using for loop \n",
    "\n",
    "a = [1,1,2,3,4,5,5,5,6,6,6,7,8]\n",
    "b = []\n",
    "for i in a:\n",
    "    if i not in b:\n",
    "        b.append(i) \n",
    "print(b)\n",
    "\n",
    "\n"
   ]
  },
  {
   "cell_type": "markdown",
   "id": "9c5fba86",
   "metadata": {
    "deletable": false,
    "editable": false
   },
   "source": [
    "### 12) Write a python program to find the sum of keys in the dictionary\n",
    "\n",
    "\n",
    "### a = [2:\"a\",3:\"b\",4:\"c\",5:\"d\",6:\"e\"]"
   ]
  },
  {
   "cell_type": "code",
   "execution_count": 19,
   "id": "bd64f277",
   "metadata": {},
   "outputs": [
    {
     "name": "stdout",
     "output_type": "stream",
     "text": [
      "20\n"
     ]
    }
   ],
   "source": [
    "### 12) Write a python program to find the sum of keys in the dictionary\n",
    "### a = [2:\"a\",3:\"b\",4:\"c\",5:\"d\",6:\"e\"]\n",
    "\n",
    "# using for loop\n",
    "a = {2:\"a\",3:\"b\",4:\"c\",5:\"d\",6:\"e\"}\n",
    "sum = 0\n",
    "for i in a:\n",
    "    sum += i\n",
    "print(sum)\n",
    "\n"
   ]
  },
  {
   "cell_type": "markdown",
   "id": "9cc79fa2",
   "metadata": {
    "deletable": false,
    "editable": false
   },
   "source": [
    "### 13) Write a python program to find the duplicate value remove in the tuple\n",
    "\n",
    "### a [1,1,1,2,2,3,4,5,5,5,6,6,6,7,8,]"
   ]
  },
  {
   "cell_type": "code",
   "execution_count": 20,
   "id": "2b1d3d6e",
   "metadata": {},
   "outputs": [
    {
     "name": "stdout",
     "output_type": "stream",
     "text": [
      "[1, 2, 3, 4, 5, 6, 7, 8]\n"
     ]
    }
   ],
   "source": [
    "### 13) Write a python program to find the duplicate value remove in the tuple\n",
    "\n",
    "### a [1,1,1,2,2,3,4,5,5,5,6,6,6,7,8,]\n",
    "# using for loop\n",
    "a = (1,1,1,2,2,3,4,5,5,5,6,6,6,7,8)\n",
    "b = []\n",
    "for i in a:\n",
    "    if i not in b:\n",
    "        b.append(i)\n",
    "print(b)"
   ]
  },
  {
   "cell_type": "markdown",
   "id": "8e3fb7b2",
   "metadata": {
    "deletable": false,
    "editable": false
   },
   "source": [
    "### 14) What is different between the conditional statement and conditional loops"
   ]
  },
  {
   "cell_type": "code",
   "execution_count": null,
   "id": "1c0bdbed",
   "metadata": {},
   "outputs": [],
   "source": [
    "# difference between conditional statements and conditional loops\n",
    "# conditional statements are used to execute a block of code only once, \n",
    "# while conditional loops are used to execute a block of code repeatedly until a certain condition is met.\n",
    "# conditional statements are used to control the flow of a program, \n",
    "# while conditional loops are used to repeat a block of code until a certain condition is met.\n"
   ]
  }
 ],
 "metadata": {
  "kernelspec": {
   "display_name": "Python 3",
   "language": "python",
   "name": "python3"
  },
  "language_info": {
   "codemirror_mode": {
    "name": "ipython",
    "version": 3
   },
   "file_extension": ".py",
   "mimetype": "text/x-python",
   "name": "python",
   "nbconvert_exporter": "python",
   "pygments_lexer": "ipython3",
   "version": "3.13.3"
  }
 },
 "nbformat": 4,
 "nbformat_minor": 5
}
