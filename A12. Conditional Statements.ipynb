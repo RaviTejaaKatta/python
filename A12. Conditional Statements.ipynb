{
 "cells": [
  {
   "attachments": {
    "c4.PNG": {
     "image/png": "[encoded data removed]"
    }
   },
   "cell_type": "markdown",
   "id": "9ef31ecb",
   "metadata": {
    "deletable": false,
    "editable": false
   },
   "source": [
    "![c4.PNG](attachment:c4.PNG)"
   ]
  },
  {
   "cell_type": "markdown",
   "id": "2e3a4686",
   "metadata": {
    "deletable": false,
    "editable": false
   },
   "source": [
    "<h2 style='color:hotpink' align='center'>MODULE: PYTHON LANGUAGE</h2>"
   ]
  },
  {
   "cell_type": "markdown",
   "id": "9f4794f3",
   "metadata": {
    "deletable": false,
    "editable": false
   },
   "source": [
    "<h2 style='color:blue' align='center'>Topic: Conditional Statements</h2>"
   ]
  },
  {
   "cell_type": "markdown",
   "id": "cf9bc33d",
   "metadata": {
    "deletable": false,
    "editable": false
   },
   "source": [
    "<h2 style='color:#C60D25' align='center'>Assignment</h2>"
   ]
  },
  {
   "cell_type": "markdown",
   "id": "84613e02",
   "metadata": {
    "deletable": false,
    "editable": false
   },
   "source": [
    "<h2 style='color:black' align='left'>Instructions:</h2>"
   ]
  },
  {
   "cell_type": "markdown",
   "id": "2893ebc6",
   "metadata": {
    "deletable": false,
    "editable": false
   },
   "source": [
    "* Please complete below assignment on this jupyter notebook.Once complete please upload the file in your dashboard assignments block (where you are downloaded) as a .ipynb file format\n",
    "\n",
    "\n",
    "* Due date: To be submitted before teh next topic/session\n",
    "\n",
    "\n",
    "* Scoring/Marks: As per topic guidelines\n"
   ]
  },
  {
   "cell_type": "markdown",
   "id": "f63bb638",
   "metadata": {
    "deletable": false,
    "editable": false
   },
   "source": [
    "### 1) Write a Python Program to check given number is pasitive or negitive or zero;\n",
    "\n",
    "\n"
   ]
  },
  {
   "cell_type": "code",
   "execution_count": 5,
   "id": "0ba8715f",
   "metadata": {},
   "outputs": [
    {
     "name": "stdout",
     "output_type": "stream",
     "text": [
      "a is positive\n"
     ]
    }
   ],
   "source": [
    "a = 0.4\n",
    "if a <0:\n",
    "    print(\"a is negative\")\n",
    "elif a>0:\n",
    "    print(\"a is positive\")  \n",
    "else:\n",
    "    print(\"a is zero\")\n"
   ]
  },
  {
   "cell_type": "markdown",
   "id": "d0a0b1ed",
   "metadata": {
    "deletable": false,
    "editable": false
   },
   "source": [
    "### 2) Write a Python program to find whether the given number is even or odd (use if only)\n",
    "\n",
    "\n"
   ]
  },
  {
   "cell_type": "code",
   "execution_count": 6,
   "id": "14700097",
   "metadata": {},
   "outputs": [
    {
     "name": "stdout",
     "output_type": "stream",
     "text": [
      "a is odd\n"
     ]
    }
   ],
   "source": [
    "\n",
    "a = 5\n",
    "if a % 2 == 0:\n",
    "    print(\"a is even\")\n",
    "else:   \n",
    "    print(\"a is odd\")\n",
    "\n"
   ]
  },
  {
   "cell_type": "markdown",
   "id": "9f69af7c",
   "metadata": {
    "deletable": false,
    "editable": false
   },
   "source": [
    "### 3) Write a Python program to seek temperature input from user and print whether it is sub-zero or above-zero temperature\n",
    "\n",
    "\n"
   ]
  },
  {
   "cell_type": "code",
   "execution_count": 1,
   "id": "7a3dd328",
   "metadata": {},
   "outputs": [
    {
     "name": "stdout",
     "output_type": "stream",
     "text": [
      "Above zero temperature\n"
     ]
    }
   ],
   "source": [
    "\n",
    "\n",
    "temperature = int(input(\"Enter the temperature in Celsius: \"))\n",
    "# printing weather it is sub zero or above zero\n",
    "if temperature < 0:\n",
    "    print(\"Sub-zero temperature\")\n",
    "elif temperature > 0:\n",
    "    print(\"Above zero temperature\")\n",
    "else:\n",
    "    print(\"Zero temperature\")"
   ]
  },
  {
   "cell_type": "markdown",
   "id": "874502e6",
   "metadata": {
    "deletable": false,
    "editable": false
   },
   "source": [
    "### 4) Write a Python program to seek marks from user and indicate whether it is first class or not\n",
    "\n",
    "\n"
   ]
  },
  {
   "cell_type": "code",
   "execution_count": 2,
   "id": "a5533a43",
   "metadata": {},
   "outputs": [
    {
     "name": "stdout",
     "output_type": "stream",
     "text": [
      "you failed!!!! get ready for your arrears\n"
     ]
    }
   ],
   "source": [
    "marks = int(input(\"Enter your marks: \"))\n",
    "if(marks >= 90):\n",
    "    print(\"destinction\")\n",
    "else:\n",
    "    print(\"you failed!!!! get ready for your arrears\")\n"
   ]
  },
  {
   "cell_type": "markdown",
   "id": "02d3e2b1",
   "metadata": {
    "deletable": false,
    "editable": false
   },
   "source": [
    "### 5) Write a python program to check weather the value number or digit \n",
    "\n",
    "digit is -9 to 9  other wise it number"
   ]
  },
  {
   "cell_type": "code",
   "execution_count": 1,
   "id": "aecff26d",
   "metadata": {},
   "outputs": [
    {
     "name": "stdout",
     "output_type": "stream",
     "text": [
      "it is digit\n"
     ]
    }
   ],
   "source": [
    "\n",
    "number = 7\n",
    "if number > -9 or number < 9:\n",
    "    print(\"it is digit\")\n",
    "else:\n",
    "    print(\"it is number\")"
   ]
  },
  {
   "cell_type": "markdown",
   "id": "5f852b71",
   "metadata": {
    "deletable": false,
    "editable": false
   },
   "source": [
    "### 6) Write a python program given year is leap year or not\n",
    "\n",
    "### Rules for Leap year: year divisible by 400; year divisible by 4 but not by 100)\n",
    "\n",
    "\n"
   ]
  },
  {
   "cell_type": "code",
   "execution_count": 10,
   "id": "d9362bd0",
   "metadata": {},
   "outputs": [
    {
     "name": "stdout",
     "output_type": "stream",
     "text": [
      "year is leap year\n"
     ]
    }
   ],
   "source": [
    "\n",
    "year = 1500\n",
    "if year % 4 == 0 or year%400 ==0:\n",
    "    print(\"year is leap year\")\n",
    "else:\n",
    "    print(\"year is not leap year\")\n",
    "\n"
   ]
  },
  {
   "cell_type": "markdown",
   "id": "ef86d899",
   "metadata": {
    "deletable": false,
    "editable": false
   },
   "source": [
    "### 7) Write a Python Program to check given number is Digit or number(1 to 10) print digit into words.\n",
    "\n",
    "\n"
   ]
  },
  {
   "cell_type": "code",
   "execution_count": 2,
   "id": "295d9396",
   "metadata": {},
   "outputs": [
    {
     "name": "stdout",
     "output_type": "stream",
     "text": [
      "five\n"
     ]
    }
   ],
   "source": [
    "# Write a Python Program to check given number is Digit or number(1 to 10) print digit into words.\n",
    "number = int(input(\"Enter a number between 1 and 10: \"))\n",
    "match number:\n",
    "    case 1:\n",
    "        print(\"one\")\n",
    "    case 2:\n",
    "        print(\"two\")\n",
    "    case 3:\n",
    "        print(\"three\")\n",
    "    case 4:\n",
    "        print(\"four\")\n",
    "    case 5:\n",
    "        print(\"five\")\n",
    "    case 6:\n",
    "        print(\"six\")\n",
    "    case 7:\n",
    "        print(\"seven\")\n",
    "    case 8:\n",
    "        print(\"eight\")\n",
    "    case 9:\n",
    "        print(\"nine\")\n",
    "    case 10:\n",
    "        print(\"ten\")\n",
    "    case _:\n",
    "        print(\"Invalid number\")\n",
    "\n",
    "\n"
   ]
  },
  {
   "cell_type": "markdown",
   "id": "a1679318",
   "metadata": {
    "deletable": false,
    "editable": false
   },
   "source": [
    "### 8) Write a python program print the Secound largest number of the given 3 numbers based on user input \n",
    "\n",
    "\n"
   ]
  },
  {
   "cell_type": "code",
   "execution_count": 5,
   "id": "677090b3",
   "metadata": {},
   "outputs": [
    {
     "name": "stdout",
     "output_type": "stream",
     "text": [
      "Largest number is: 234\n"
     ]
    }
   ],
   "source": [
    "# printing second largest number\n",
    "a, b, c = 26, 234, 32789\n",
    "if a > b and a < c:\n",
    "    largest = a\n",
    "elif b > a and b < c:\n",
    "    largest = b\n",
    "else:\n",
    "    largest = c\n",
    "print(\"Largest number is:\", largest)\n"
   ]
  },
  {
   "cell_type": "markdown",
   "id": "bd91206e",
   "metadata": {
    "deletable": false,
    "editable": false
   },
   "source": [
    "### 9) Write a python program print the smallest number of the given 3 numbers based on user input\n",
    "    \n",
    "    \n",
    "    "
   ]
  },
  {
   "cell_type": "code",
   "execution_count": 3,
   "id": "aebb065a",
   "metadata": {},
   "outputs": [
    {
     "name": "stdout",
     "output_type": "stream",
     "text": [
      "The smallest number is: 3\n"
     ]
    }
   ],
   "source": [
    "\n",
    "a, b, c = map(int, input(\"Enter three numbers separated by space: \").split())\n",
    "# checking the smallest number\n",
    "if a < b and a < c:\n",
    "    print(\"The smallest number is:\", a)\n",
    "elif b < a and b < c:\n",
    "    print(\"The smallest number is:\", b)\n",
    "elif c < a and c < b:\n",
    "    print(\"The smallest number is:\", c)\n",
    "else:\n",
    "    print(\"All numbers are equal\")\n",
    "\n"
   ]
  },
  {
   "cell_type": "markdown",
   "id": "89544f58",
   "metadata": {
    "deletable": false,
    "editable": false
   },
   "source": [
    "### 10) Write a python program print the largest number of the given 3 numbers based on user input \n",
    "\n",
    "\n"
   ]
  },
  {
   "cell_type": "code",
   "execution_count": 2,
   "id": "73f3d39d",
   "metadata": {},
   "outputs": [
    {
     "name": "stdout",
     "output_type": "stream",
     "text": [
      "The largest number is: 5\n"
     ]
    }
   ],
   "source": [
    "\n",
    "a, b, c = map(int, input(\"Enter three numbers separated by space: \").split())\n",
    "# checking the largest number\n",
    "if a >= b and a >= c:\n",
    "    print(\"The largest number is:\", a)\n",
    "elif b >= a and b >= c:\n",
    "    print(\"The largest number is:\", b)\n",
    "else:\n",
    "    print(\"The largest number is:\", c)\n",
    "    \n"
   ]
  },
  {
   "cell_type": "markdown",
   "id": "617eaee9",
   "metadata": {
    "deletable": false,
    "editable": false
   },
   "source": [
    "### 11) Write a python program based on marks to decided pass or fail.\n",
    "\n",
    "### marks gaterthen 35  and lessthen  60 is secound class. marks gaterthen  60 and lessthen 80 is first class \n",
    "\n",
    "### and above 80 outstnding. marks below 35 fail\n",
    "\n",
    "\n"
   ]
  },
  {
   "cell_type": "code",
   "execution_count": 3,
   "id": "2a45413d",
   "metadata": {},
   "outputs": [
    {
     "name": "stdout",
     "output_type": "stream",
     "text": [
      "First Class\n"
     ]
    }
   ],
   "source": [
    "marks = int(input(\"Enter your marks: \"))\n",
    "if(marks >= 80):\n",
    "    print(\"destinction\")\n",
    "elif marks<80:\n",
    "    print(\"First Class\")\n",
    "elif(marks>=60):\n",
    "    print(\"second class\")\n",
    "elif(marks>=35):\n",
    "    print(\"pass\")\n",
    "else:\n",
    "    print(\"you failed!!!! get ready for your arrears\")\n"
   ]
  },
  {
   "cell_type": "markdown",
   "id": "3c1b2de9",
   "metadata": {
    "deletable": false,
    "editable": false
   },
   "source": [
    "### 12) Write a program to perform  arthematic operators based on user input  using match case."
   ]
  },
  {
   "cell_type": "code",
   "execution_count": null,
   "id": "4c1813c6",
   "metadata": {},
   "outputs": [
    {
     "name": "stdout",
     "output_type": "stream",
     "text": [
      "59\n"
     ]
    }
   ],
   "source": [
    "num1 = 20\n",
    "num2 = 39\n",
    "operation = input(\"enter an arithematic operation'+,-, *, /, //, %, ** etc'\")\n",
    "match operation:\n",
    "    case \"+\":\n",
    "        print(num1+num2)\n",
    "    case \"-\":\n",
    "        print(num1-num2)\n",
    "    case \"*\":\n",
    "        print(num1*num2)\n",
    "    case \"/\":\n",
    "        print(num1/num2)\n",
    "    case \"//\":\n",
    "        print(num1//num2)\n",
    "    case \"%\":\n",
    "        print(num1%num2)\n",
    "    case \"**\":\n",
    "        print(num1**num2)\n",
    "    case _:\n",
    "        print(\"invalid operator\")"
   ]
  },
  {
   "cell_type": "markdown",
   "id": "b77ca470",
   "metadata": {
    "deletable": false,
    "editable": false
   },
   "source": [
    "### 13) Write a program to perform comparision operators based on user input using match case.\n"
   ]
  },
  {
   "cell_type": "code",
   "execution_count": 6,
   "id": "a198fc0d",
   "metadata": {},
   "outputs": [
    {
     "name": "stdout",
     "output_type": "stream",
     "text": [
      "False\n"
     ]
    }
   ],
   "source": [
    "num1 = 20\n",
    "num2 = 39\n",
    "comparision = input(\"enter a comparision operator '==, <=, >=, >,<, !='\")\n",
    "match comparision:\n",
    "    case \"==\":\n",
    "        print(num1==num2)\n",
    "    case \"<=\":\n",
    "        print(num1<=num2)\n",
    "    case \">=\":\n",
    "        print(num1>=num2)\n",
    "    case \"!=\":\n",
    "        print(num1!=num2)\n",
    "    case \">\":\n",
    "        print(num1>num2)\n",
    "    case \"<\":\n",
    "        print(num1<num2)\n",
    "    case _:\n",
    "        print(\"invalid comparision\")"
   ]
  }
 ],
 "metadata": {
  "kernelspec": {
   "display_name": "Python 3",
   "language": "python",
   "name": "python3"
  },
  "language_info": {
   "codemirror_mode": {
    "name": "ipython",
    "version": 3
   },
   "file_extension": ".py",
   "mimetype": "text/x-python",
   "name": "python",
   "nbconvert_exporter": "python",
   "pygments_lexer": "ipython3",
   "version": "3.13.3"
  }
 },
 "nbformat": 4,
 "nbformat_minor": 5
}
